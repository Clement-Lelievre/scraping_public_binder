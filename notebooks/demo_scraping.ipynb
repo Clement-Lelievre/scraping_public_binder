{
 "cells": [
  {
   "cell_type": "markdown",
   "id": "24b6cd55-9ca2-4e5d-880e-db917fbd1038",
   "metadata": {
    "id": "24b6cd55-9ca2-4e5d-880e-db917fbd1038"
   },
   "source": [
    "# Démo - scraping"
   ]
  },
  {
   "cell_type": "markdown",
   "id": "59344071-0002-4d60-b3bf-664f6d9cb0f9",
   "metadata": {
    "id": "59344071-0002-4d60-b3bf-664f6d9cb0f9"
   },
   "source": [
    "## Imports"
   ]
  },
  {
   "cell_type": "code",
   "execution_count": 1,
   "id": "7662d776-72b5-44d7-8224-3a8cb9cb3286",
   "metadata": {
    "ExecuteTime": {
     "end_time": "2023-09-19T08:21:24.598306Z",
     "start_time": "2023-09-19T08:21:20.907414Z"
    },
    "id": "7662d776-72b5-44d7-8224-3a8cb9cb3286",
    "tags": []
   },
   "outputs": [],
   "source": [
    "from bs4 import BeautifulSoup  # parser de HTML/XML\n",
    "import requests  # pour la query HTTP\n",
    "import pandas as pd # analyse de données, sauvegarde au format excel/CSV/JSON/Parquet etc. (on pourrait n'utiliser que la lib csv)"
   ]
  },
  {
   "cell_type": "code",
   "execution_count": 2,
   "id": "21cc998a-79f3-4ff2-b139-95d4609fc376",
   "metadata": {
    "ExecuteTime": {
     "end_time": "2023-09-19T08:21:24.635503Z",
     "start_time": "2023-09-19T08:21:24.627220Z"
    },
    "id": "21cc998a-79f3-4ff2-b139-95d4609fc376",
    "tags": []
   },
   "outputs": [],
   "source": [
    "URL = \"https://books.toscrape.com/\"  # stockée dans une constante\n",
    "\n",
    "# TO DO: visiter le site ci-dessus, regarder son code"
   ]
  },
  {
   "cell_type": "markdown",
   "id": "EoDsOKxEOVN_",
   "metadata": {
    "id": "EoDsOKxEOVN_"
   },
   "source": [
    "## Exploration"
   ]
  },
  {
   "cell_type": "code",
   "execution_count": 35,
   "id": "peO2dcjSOWmA",
   "metadata": {
    "colab": {
     "base_uri": "https://localhost:8080/"
    },
    "id": "peO2dcjSOWmA",
    "outputId": "567a6330-69b5-4583-91d1-927f1e0bd7c4"
   },
   "outputs": [
    {
     "data": {
      "text/plain": [
       "<title>\n",
       "    All products | Books to Scrape - Sandbox\n",
       "</title>"
      ]
     },
     "execution_count": 35,
     "metadata": {},
     "output_type": "execute_result"
    }
   ],
   "source": [
    "r = requests.get(URL)\n",
    "html = r.content\n",
    "soup = BeautifulSoup(html, 'html.parser')\n",
    "soup.title"
   ]
  },
  {
   "cell_type": "code",
   "execution_count": 39,
   "id": "83KCZgOhOezp",
   "metadata": {
    "colab": {
     "base_uri": "https://localhost:8080/",
     "height": 35
    },
    "id": "83KCZgOhOezp",
    "outputId": "ebe0d336-615b-4c0e-fdf3-39a295684a7c"
   },
   "outputs": [
    {
     "data": {
      "application/vnd.google.colaboratory.intrinsic+json": {
       "type": "string"
      },
      "text/plain": [
       "'title'"
      ]
     },
     "execution_count": 39,
     "metadata": {},
     "output_type": "execute_result"
    }
   ],
   "source": [
    "soup.title.name"
   ]
  },
  {
   "cell_type": "code",
   "execution_count": 38,
   "id": "-8AJINbCOmNe",
   "metadata": {
    "colab": {
     "base_uri": "https://localhost:8080/",
     "height": 35
    },
    "id": "-8AJINbCOmNe",
    "outputId": "e290c937-3d57-43e5-e1e9-ec09056b65a3"
   },
   "outputs": [
    {
     "data": {
      "application/vnd.google.colaboratory.intrinsic+json": {
       "type": "string"
      },
      "text/plain": [
       "'\\n    All products | Books to Scrape - Sandbox\\n'"
      ]
     },
     "execution_count": 38,
     "metadata": {},
     "output_type": "execute_result"
    }
   ],
   "source": [
    "soup.title.string"
   ]
  },
  {
   "cell_type": "code",
   "execution_count": 40,
   "id": "P_lN5ZnTOq9e",
   "metadata": {
    "colab": {
     "base_uri": "https://localhost:8080/",
     "height": 35
    },
    "id": "P_lN5ZnTOq9e",
    "outputId": "6804cd0d-8d99-43e8-83e2-9fcce8774c8f"
   },
   "outputs": [
    {
     "data": {
      "application/vnd.google.colaboratory.intrinsic+json": {
       "type": "string"
      },
      "text/plain": [
       "'head'"
      ]
     },
     "execution_count": 40,
     "metadata": {},
     "output_type": "execute_result"
    }
   ],
   "source": [
    "soup.title.parent.name"
   ]
  },
  {
   "cell_type": "code",
   "execution_count": 41,
   "id": "T5DJwiekOtiU",
   "metadata": {
    "colab": {
     "base_uri": "https://localhost:8080/"
    },
    "id": "T5DJwiekOtiU",
    "outputId": "04448de6-5263-4de8-cd5f-aa04888f68b1"
   },
   "outputs": [
    {
     "data": {
      "text/plain": [
       "<p class=\"star-rating Three\">\n",
       "<i class=\"icon-star\"></i>\n",
       "<i class=\"icon-star\"></i>\n",
       "<i class=\"icon-star\"></i>\n",
       "<i class=\"icon-star\"></i>\n",
       "<i class=\"icon-star\"></i>\n",
       "</p>"
      ]
     },
     "execution_count": 41,
     "metadata": {},
     "output_type": "execute_result"
    }
   ],
   "source": [
    "soup.p"
   ]
  },
  {
   "cell_type": "code",
   "execution_count": 42,
   "id": "U-GIq6L6OyZk",
   "metadata": {
    "colab": {
     "base_uri": "https://localhost:8080/"
    },
    "id": "U-GIq6L6OyZk",
    "outputId": "94555ea1-a710-47f6-e58b-88b7ee771ec5"
   },
   "outputs": [
    {
     "data": {
      "text/plain": [
       "['star-rating', 'Three']"
      ]
     },
     "execution_count": 42,
     "metadata": {},
     "output_type": "execute_result"
    }
   ],
   "source": [
    "soup.p['class']"
   ]
  },
  {
   "cell_type": "code",
   "execution_count": 46,
   "id": "OwjzFtYXO262",
   "metadata": {
    "colab": {
     "base_uri": "https://localhost:8080/"
    },
    "id": "OwjzFtYXO262",
    "outputId": "750f400e-a654-4e83-dfc0-0483f9bde399"
   },
   "outputs": [
    {
     "data": {
      "text/plain": [
       "<a href=\"index.html\">Books to Scrape</a>"
      ]
     },
     "execution_count": 46,
     "metadata": {},
     "output_type": "execute_result"
    }
   ],
   "source": [
    "soup.a"
   ]
  },
  {
   "cell_type": "code",
   "execution_count": 47,
   "id": "FdY6Qh2eO9-m",
   "metadata": {
    "colab": {
     "base_uri": "https://localhost:8080/"
    },
    "id": "FdY6Qh2eO9-m",
    "outputId": "8139c55b-015d-4e99-e679-dadcdbb72991"
   },
   "outputs": [
    {
     "data": {
      "text/plain": [
       "[<a href=\"index.html\">Books to Scrape</a>,\n",
       " <a href=\"index.html\">Home</a>,\n",
       " <a href=\"catalogue/category/books_1/index.html\">\n",
       "                             \n",
       "                                 Books\n",
       "                             \n",
       "                         </a>]"
      ]
     },
     "execution_count": 47,
     "metadata": {},
     "output_type": "execute_result"
    }
   ],
   "source": [
    "soup.find_all('a')[:3]"
   ]
  },
  {
   "cell_type": "markdown",
   "id": "d89e2f63-47cd-47df-9a35-b48c7562275a",
   "metadata": {
    "id": "d89e2f63-47cd-47df-9a35-b48c7562275a"
   },
   "source": [
    "## Récupérer les noms des catégories (colonne de gauche)"
   ]
  },
  {
   "cell_type": "code",
   "execution_count": 3,
   "id": "1122846b-f4d9-4994-a344-3d3ef439139d",
   "metadata": {
    "id": "1122846b-f4d9-4994-a344-3d3ef439139d",
    "tags": []
   },
   "outputs": [],
   "source": [
    "def get_categories() -> None:  # type hint\n",
    "    \"\"\"Capture les noms de catégories de la colonne de gauche\"\"\"\n",
    "    r = requests.get(URL)\n",
    "    if (rsc := r.status_code) != 200:\n",
    "        print(f\"Erreur, code {rsc}\")\n",
    "    else:\n",
    "        html = r.content\n",
    "        soup = BeautifulSoup(html, 'html.parser')\n",
    "        categories = []\n",
    "        for elem in soup.find_all('a'):\n",
    "            if elem.get('href', '').startswith('catalogue/category/books/'):\n",
    "                category = elem.text.strip()\n",
    "                categories.append(category)\n",
    "        print(f\"{len(categories)} categories found:\\n {categories}\")"
   ]
  },
  {
   "cell_type": "code",
   "execution_count": 4,
   "id": "af121e93-ab15-4b1d-b6de-1f8771c15505",
   "metadata": {
    "colab": {
     "base_uri": "https://localhost:8080/",
     "height": 35
    },
    "id": "af121e93-ab15-4b1d-b6de-1f8771c15505",
    "outputId": "1e49b00a-7d97-4bdf-8443-e7f0c6b0f499",
    "tags": []
   },
   "outputs": [
    {
     "data": {
      "application/vnd.google.colaboratory.intrinsic+json": {
       "type": "string"
      },
      "text/plain": [
       "'Capture les noms de catégories de la colonne de gauche'"
      ]
     },
     "execution_count": 4,
     "metadata": {},
     "output_type": "execute_result"
    }
   ],
   "source": [
    "get_categories.__doc__"
   ]
  },
  {
   "cell_type": "code",
   "execution_count": 5,
   "id": "f63133ef-18ed-4f0b-9c1c-64c0588b0544",
   "metadata": {
    "colab": {
     "base_uri": "https://localhost:8080/"
    },
    "id": "f63133ef-18ed-4f0b-9c1c-64c0588b0544",
    "outputId": "fc310cd8-06e1-4a73-98b6-383a16024615",
    "tags": []
   },
   "outputs": [
    {
     "name": "stdout",
     "output_type": "stream",
     "text": [
      "50 categories found:\n",
      " ['Travel', 'Mystery', 'Historical Fiction', 'Sequential Art', 'Classics', 'Philosophy', 'Romance', 'Womens Fiction', 'Fiction', 'Childrens', 'Religion', 'Nonfiction', 'Music', 'Default', 'Science Fiction', 'Sports and Games', 'Add a comment', 'Fantasy', 'New Adult', 'Young Adult', 'Science', 'Poetry', 'Paranormal', 'Art', 'Psychology', 'Autobiography', 'Parenting', 'Adult Fiction', 'Humor', 'Horror', 'History', 'Food and Drink', 'Christian Fiction', 'Business', 'Biography', 'Thriller', 'Contemporary', 'Spirituality', 'Academic', 'Self Help', 'Historical', 'Christian', 'Suspense', 'Short Stories', 'Novels', 'Health', 'Politics', 'Cultural', 'Erotica', 'Crime']\n"
     ]
    }
   ],
   "source": [
    "get_categories()"
   ]
  },
  {
   "cell_type": "markdown",
   "id": "275a0f04-7707-4f11-98f4-302c64878af9",
   "metadata": {
    "id": "275a0f04-7707-4f11-98f4-302c64878af9"
   },
   "source": [
    "## Récupérer les titres des livres"
   ]
  },
  {
   "cell_type": "code",
   "execution_count": 8,
   "id": "d65bbff3-2e3e-4b86-9ef1-dc1101992d68",
   "metadata": {
    "ExecuteTime": {
     "end_time": "2023-09-19T08:29:57.001983Z",
     "start_time": "2023-09-19T08:29:56.989357Z"
    },
    "id": "d65bbff3-2e3e-4b86-9ef1-dc1101992d68",
    "tags": []
   },
   "outputs": [],
   "source": [
    "def get_titles() -> list[str]:\n",
    "    \"\"\"Capture les titres de livres\"\"\"\n",
    "    r = requests.get(URL)\n",
    "    if (rsc := r.status_code) != 200:\n",
    "        print(f\"Erreur, code {rsc}\")\n",
    "    else:\n",
    "        html = r.content\n",
    "        soup = BeautifulSoup(html, 'html.parser')\n",
    "        titles = []\n",
    "        for elem in soup.find_all('h3'):\n",
    "            try:\n",
    "                if elem.a.get('href', '').startswith('catalogue/'):\n",
    "                    titles.append(elem.a.get('title','').strip())\n",
    "            except AttributeError:\n",
    "                continue\n",
    "        print(f\"{len(titles)} titles found:\\n {titles}\")\n",
    "        return titles"
   ]
  },
  {
   "cell_type": "code",
   "execution_count": 9,
   "id": "e8ad5048-ee53-47fa-956b-9b39a294cac4",
   "metadata": {
    "ExecuteTime": {
     "end_time": "2023-09-19T08:30:00.802831Z",
     "start_time": "2023-09-19T08:29:58.971648Z"
    },
    "colab": {
     "base_uri": "https://localhost:8080/"
    },
    "id": "e8ad5048-ee53-47fa-956b-9b39a294cac4",
    "outputId": "7b18e9e8-5b62-4b61-a2ed-68dcd6fac5cf",
    "tags": []
   },
   "outputs": [
    {
     "name": "stdout",
     "output_type": "stream",
     "text": [
      "20 titles found:\n",
      " ['A Light in the Attic', 'Tipping the Velvet', 'Soumission', 'Sharp Objects', 'Sapiens: A Brief History of Humankind', 'The Requiem Red', 'The Dirty Little Secrets of Getting Your Dream Job', 'The Coming Woman: A Novel Based on the Life of the Infamous Feminist, Victoria Woodhull', 'The Boys in the Boat: Nine Americans and Their Epic Quest for Gold at the 1936 Berlin Olympics', 'The Black Maria', 'Starving Hearts (Triangular Trade Trilogy, #1)', \"Shakespeare's Sonnets\", 'Set Me Free', \"Scott Pilgrim's Precious Little Life (Scott Pilgrim #1)\", 'Rip it Up and Start Again', 'Our Band Could Be Your Life: Scenes from the American Indie Underground, 1981-1991', 'Olio', 'Mesaerion: The Best Science Fiction Stories 1800-1849', 'Libertarianism for Beginners', \"It's Only the Himalayas\"]\n"
     ]
    },
    {
     "data": {
      "text/plain": [
       "['A Light in the Attic',\n",
       " 'Tipping the Velvet',\n",
       " 'Soumission',\n",
       " 'Sharp Objects',\n",
       " 'Sapiens: A Brief History of Humankind',\n",
       " 'The Requiem Red',\n",
       " 'The Dirty Little Secrets of Getting Your Dream Job',\n",
       " 'The Coming Woman: A Novel Based on the Life of the Infamous Feminist, Victoria Woodhull',\n",
       " 'The Boys in the Boat: Nine Americans and Their Epic Quest for Gold at the 1936 Berlin Olympics',\n",
       " 'The Black Maria',\n",
       " 'Starving Hearts (Triangular Trade Trilogy, #1)',\n",
       " \"Shakespeare's Sonnets\",\n",
       " 'Set Me Free',\n",
       " \"Scott Pilgrim's Precious Little Life (Scott Pilgrim #1)\",\n",
       " 'Rip it Up and Start Again',\n",
       " 'Our Band Could Be Your Life: Scenes from the American Indie Underground, 1981-1991',\n",
       " 'Olio',\n",
       " 'Mesaerion: The Best Science Fiction Stories 1800-1849',\n",
       " 'Libertarianism for Beginners',\n",
       " \"It's Only the Himalayas\"]"
      ]
     },
     "execution_count": 9,
     "metadata": {},
     "output_type": "execute_result"
    }
   ],
   "source": [
    "get_titles()"
   ]
  },
  {
   "cell_type": "markdown",
   "id": "3eblSW32HDWN",
   "metadata": {
    "id": "3eblSW32HDWN"
   },
   "source": [
    "## Récupérer les titres des livres **des 3 premières pages**"
   ]
  },
  {
   "cell_type": "code",
   "execution_count": 25,
   "id": "f3b92f33-f9be-4f28-b426-9b4df7628620",
   "metadata": {
    "id": "f3b92f33-f9be-4f28-b426-9b4df7628620"
   },
   "outputs": [],
   "source": [
    "from pprint import pprint\n",
    "\n",
    "def get_titles_multipage(page_start: int, page_end: int) -> None:\n",
    "    \"\"\"Capture les titres de livres de la page `page_start` à la page `page_end`\"\"\"\n",
    "\n",
    "    # on remarque un pattern d'URL: https://books.toscrape.com/catalogue/page-2.html\n",
    "    URL = 'https://books.toscrape.com/catalogue/page-{}.html'\n",
    "    titles = {nb: [] for nb in range(page_start, page_end + 1)}  # or use a defaultdict(list)\n",
    "\n",
    "    for page_nb in range(page_start, page_end + 1):\n",
    "      url = URL.format(page_nb)\n",
    "      print(f\"Scraping {url}...\")\n",
    "      r = requests.get(url)\n",
    "      if (rsc := r.status_code) != 200:\n",
    "          print(f\"Erreur, code {rsc}\")\n",
    "      else:\n",
    "          html = r.content\n",
    "          soup = BeautifulSoup(html, 'html.parser')\n",
    "\n",
    "          for elem in soup.find_all('h3'):\n",
    "              try:\n",
    "                  if elem.a.get('href'):  # this time there is no \"/catalogue\"\n",
    "                      titles[page_nb].append(elem.a.get('title','').strip())\n",
    "              except AttributeError:\n",
    "                  continue\n",
    "    pprint(titles)"
   ]
  },
  {
   "cell_type": "code",
   "execution_count": null,
   "id": "Kp2KawQVIDqJ",
   "metadata": {
    "id": "Kp2KawQVIDqJ"
   },
   "outputs": [],
   "source": [
    "get_titles_multipage(1, 3)"
   ]
  },
  {
   "cell_type": "markdown",
   "id": "P_Ifsn0mJnE3",
   "metadata": {
    "id": "P_Ifsn0mJnE3"
   },
   "source": [
    "## Quel est le coût total des 4 premiers livres?"
   ]
  },
  {
   "cell_type": "code",
   "execution_count": 15,
   "id": "2YFieesxJq0L",
   "metadata": {
    "ExecuteTime": {
     "end_time": "2023-09-19T08:33:48.705328Z",
     "start_time": "2023-09-19T08:33:48.691196Z"
    },
    "id": "2YFieesxJq0L"
   },
   "outputs": [],
   "source": [
    "def get_prices(n_books : int = 4) -> list[float]:\n",
    "    \"\"\"Calcule la somme des prix des `n_books` premiers livres\"\"\"\n",
    "    r = requests.get(URL)\n",
    "    if (rsc := r.status_code) != 200:\n",
    "        print(f\"Erreur, code {rsc}\")\n",
    "    else:\n",
    "        html = r.content\n",
    "        soup = BeautifulSoup(html, 'html.parser')\n",
    "        prices = []\n",
    "        for elem in soup.find_all('div', class_='product_price')[:n_books]:\n",
    "            try:\n",
    "                prices.append(elem.p.text.strip()[1:])  # drop £ sign\n",
    "            except AttributeError:\n",
    "                continue\n",
    "        prices = [float(val) for val in prices]  # or list(map(float, prices))\n",
    "        return prices"
   ]
  },
  {
   "cell_type": "code",
   "execution_count": 16,
   "id": "tO_66VrlLCX4",
   "metadata": {
    "ExecuteTime": {
     "end_time": "2023-09-19T08:33:57.477814Z",
     "start_time": "2023-09-19T08:33:55.747302Z"
    },
    "colab": {
     "base_uri": "https://localhost:8080/"
    },
    "id": "tO_66VrlLCX4",
    "outputId": "99326ca3-e810-4999-f3d3-020e00910809"
   },
   "outputs": [
    {
     "name": "stdout",
     "output_type": "stream",
     "text": [
      "[51.77, 53.74, 50.1, 47.82] 203.43\n"
     ]
    }
   ],
   "source": [
    "prices = get_prices()\n",
    "print(prices, sum(prices))"
   ]
  },
  {
   "cell_type": "markdown",
   "id": "rmhD34xHLWXf",
   "metadata": {
    "heading_collapsed": true,
    "id": "rmhD34xHLWXf"
   },
   "source": [
    "## Stocker en local l'image de couverture de \"Sapiens\""
   ]
  },
  {
   "cell_type": "code",
   "execution_count": 3,
   "id": "IeaQiF93LcsI",
   "metadata": {
    "ExecuteTime": {
     "end_time": "2023-09-19T08:21:56.274874Z",
     "start_time": "2023-09-19T08:21:55.932096Z"
    },
    "hidden": true,
    "id": "IeaQiF93LcsI"
   },
   "outputs": [],
   "source": [
    "def store_bookcover() -> None:\n",
    "    r = requests.get(URL)\n",
    "    if (rsc := r.status_code) != 200:\n",
    "        print(f\"Erreur, code {rsc}\")\n",
    "    else:\n",
    "        html = r.content\n",
    "        soup = BeautifulSoup(html, 'html.parser')\n",
    "        for elem in soup.find_all('div', class_=\"image_container\"):\n",
    "          if \"sapiens\" in elem.a.get('href', '').lower():\n",
    "              img_url = \"\".join(['https://books.toscrape.com/', elem.a.img.get('src', '')])\n",
    "              print(f\"{img_url=}\")\n",
    "              img_req = requests.get(img_url)\n",
    "              with open('sapiens.jpg', 'wb') as f:\n",
    "                  f.write(img_req.content)\n",
    "              print('Image stored successfully')\n",
    "              break\n",
    "        else:\n",
    "          print('No bookcover from Sapiens found')"
   ]
  },
  {
   "cell_type": "code",
   "execution_count": 4,
   "id": "b7998db9",
   "metadata": {
    "ExecuteTime": {
     "end_time": "2023-09-19T08:21:58.903222Z",
     "start_time": "2023-09-19T08:21:58.699863Z"
    },
    "hidden": true
   },
   "outputs": [
    {
     "name": "stdout",
     "output_type": "stream",
     "text": [
      "zsh:1: no matches found: *.jpg\r\n"
     ]
    }
   ],
   "source": [
    "! ls -lt *.jpg"
   ]
  },
  {
   "cell_type": "code",
   "execution_count": 5,
   "id": "UZMVXSWlNQ1s",
   "metadata": {
    "ExecuteTime": {
     "end_time": "2023-09-19T08:22:11.932004Z",
     "start_time": "2023-09-19T08:22:09.419739Z"
    },
    "colab": {
     "base_uri": "https://localhost:8080/"
    },
    "hidden": true,
    "id": "UZMVXSWlNQ1s",
    "outputId": "27d438bb-1bc5-47f8-e992-d927160a43bd"
   },
   "outputs": [
    {
     "name": "stdout",
     "output_type": "stream",
     "text": [
      "img_url='https://books.toscrape.com/media/cache/be/a5/bea5697f2534a2f86a3ef27b5a8c12a6.jpg'\n",
      "Image stored successfully\n"
     ]
    }
   ],
   "source": [
    "store_bookcover()"
   ]
  },
  {
   "cell_type": "code",
   "execution_count": 6,
   "id": "c06973b4",
   "metadata": {
    "ExecuteTime": {
     "end_time": "2023-09-19T08:22:12.173966Z",
     "start_time": "2023-09-19T08:22:11.966459Z"
    },
    "hidden": true
   },
   "outputs": [
    {
     "name": "stdout",
     "output_type": "stream",
     "text": [
      "-rw-r--r-- 1 root root 7986 Sep 19 10:22 sapiens.jpg\r\n"
     ]
    }
   ],
   "source": [
    "! ls -lt *.jpg"
   ]
  },
  {
   "cell_type": "code",
   "execution_count": 7,
   "id": "28ae391d",
   "metadata": {
    "ExecuteTime": {
     "end_time": "2023-09-19T08:23:14.926089Z",
     "start_time": "2023-09-19T08:23:14.892728Z"
    },
    "hidden": true
   },
   "outputs": [
    {
     "data": {
      "image/jpeg": "[encoded data removed]",
      "text/plain": [
       "<IPython.core.display.Image object>"
      ]
     },
     "execution_count": 7,
     "metadata": {},
     "output_type": "execute_result"
    }
   ],
   "source": [
    "from IPython.display import Image\n",
    "\n",
    "Image(filename='sapiens.jpg')"
   ]
  },
  {
   "cell_type": "markdown",
   "id": "179dccdf",
   "metadata": {},
   "source": [
    "## Structurer la donnée dans un fichier CSV: titre et prix"
   ]
  },
  {
   "cell_type": "markdown",
   "id": "1ec694ce",
   "metadata": {},
   "source": [
    "Réutilisons les fonctions ci-dessus"
   ]
  },
  {
   "cell_type": "markdown",
   "id": "7dd773f3",
   "metadata": {},
   "source": [
    "### Utilisation de la librairie built-in `csv`"
   ]
  },
  {
   "cell_type": "code",
   "execution_count": 22,
   "id": "fab2a79b",
   "metadata": {
    "ExecuteTime": {
     "end_time": "2023-09-19T08:37:42.835865Z",
     "start_time": "2023-09-19T08:37:40.675322Z"
    }
   },
   "outputs": [
    {
     "name": "stdout",
     "output_type": "stream",
     "text": [
      "20 titles found:\n",
      " ['A Light in the Attic', 'Tipping the Velvet', 'Soumission', 'Sharp Objects', 'Sapiens: A Brief History of Humankind', 'The Requiem Red', 'The Dirty Little Secrets of Getting Your Dream Job', 'The Coming Woman: A Novel Based on the Life of the Infamous Feminist, Victoria Woodhull', 'The Boys in the Boat: Nine Americans and Their Epic Quest for Gold at the 1936 Berlin Olympics', 'The Black Maria', 'Starving Hearts (Triangular Trade Trilogy, #1)', \"Shakespeare's Sonnets\", 'Set Me Free', \"Scott Pilgrim's Precious Little Life (Scott Pilgrim #1)\", 'Rip it Up and Start Again', 'Our Band Could Be Your Life: Scenes from the American Indie Underground, 1981-1991', 'Olio', 'Mesaerion: The Best Science Fiction Stories 1800-1849', 'Libertarianism for Beginners', \"It's Only the Himalayas\"]\n"
     ]
    }
   ],
   "source": [
    "import csv\n",
    "\n",
    "with open('books.csv', 'w') as csvfile:\n",
    "    writer = csv.DictWriter(csvfile, fieldnames=['titre', 'prix'])\n",
    "    writer.writeheader()\n",
    "    titles = get_titles()\n",
    "    prices = get_prices(n_books = len(titles))\n",
    "    assert len(titles) == len(prices)\n",
    "    for title, price in zip(titles, prices):\n",
    "          writer.writerow({'titre':title, 'prix':price})"
   ]
  },
  {
   "cell_type": "code",
   "execution_count": 23,
   "id": "8a09e61a",
   "metadata": {
    "ExecuteTime": {
     "end_time": "2023-09-19T08:37:52.177252Z",
     "start_time": "2023-09-19T08:37:52.010945Z"
    }
   },
   "outputs": [
    {
     "name": "stdout",
     "output_type": "stream",
     "text": [
      "-rw-r--r-- 1 root root 883 Sep 19 10:37 books.csv\r\n"
     ]
    }
   ],
   "source": [
    "! ls -lt *.csv"
   ]
  },
  {
   "cell_type": "markdown",
   "id": "b24defe3",
   "metadata": {},
   "source": [
    "Regardons le résultat en ligne de commande"
   ]
  },
  {
   "cell_type": "code",
   "execution_count": 26,
   "id": "7ebc9328",
   "metadata": {
    "ExecuteTime": {
     "end_time": "2023-09-19T08:38:45.693409Z",
     "start_time": "2023-09-19T08:38:45.523704Z"
    }
   },
   "outputs": [
    {
     "name": "stdout",
     "output_type": "stream",
     "text": [
      "titre,prix\r",
      "\r\n",
      "A Light in the Attic,51.77\r",
      "\r\n",
      "Tipping the Velvet,53.74\r",
      "\r\n",
      "Soumission,50.1\r",
      "\r\n",
      "Sharp Objects,47.82\r",
      "\r\n",
      "Sapiens: A Brief History of Humankind,54.23\r",
      "\r\n",
      "The Requiem Red,22.65\r",
      "\r\n",
      "The Dirty Little Secrets of Getting Your Dream Job,33.34\r",
      "\r\n",
      "\"The Coming Woman: A Novel Based on the Life of the Infamous Feminist, Victoria Woodhull\",17.93\r",
      "\r\n",
      "The Boys in the Boat: Nine Americans and Their Epic Quest for Gold at the 1936 Berlin Olympics,22.6\r",
      "\r\n"
     ]
    }
   ],
   "source": [
    "!head -n 10 books.csv"
   ]
  },
  {
   "cell_type": "markdown",
   "id": "6cc9ffc8",
   "metadata": {},
   "source": [
    "Et avec la librairie `csv`"
   ]
  },
  {
   "cell_type": "code",
   "execution_count": 29,
   "id": "1cebbb25",
   "metadata": {
    "ExecuteTime": {
     "end_time": "2023-09-19T08:41:37.470095Z",
     "start_time": "2023-09-19T08:41:37.436010Z"
    }
   },
   "outputs": [
    {
     "name": "stdout",
     "output_type": "stream",
     "text": [
      "A Light in the Attic 51.77\n",
      "Tipping the Velvet 53.74\n",
      "Soumission 50.1\n",
      "Sharp Objects 47.82\n",
      "Sapiens: A Brief History of Humankind 54.23\n",
      "The Requiem Red 22.65\n",
      "The Dirty Little Secrets of Getting Your Dream Job 33.34\n",
      "The Coming Woman: A Novel Based on the Life of the Infamous Feminist, Victoria Woodhull 17.93\n",
      "The Boys in the Boat: Nine Americans and Their Epic Quest for Gold at the 1936 Berlin Olympics 22.6\n",
      "The Black Maria 52.15\n",
      "Starving Hearts (Triangular Trade Trilogy, #1) 13.99\n",
      "Shakespeare's Sonnets 20.66\n",
      "Set Me Free 17.46\n",
      "Scott Pilgrim's Precious Little Life (Scott Pilgrim #1) 52.29\n",
      "Rip it Up and Start Again 35.02\n",
      "Our Band Could Be Your Life: Scenes from the American Indie Underground, 1981-1991 57.25\n",
      "Olio 23.88\n",
      "Mesaerion: The Best Science Fiction Stories 1800-1849 37.59\n",
      "Libertarianism for Beginners 51.33\n",
      "It's Only the Himalayas 45.17\n"
     ]
    }
   ],
   "source": [
    "with open('books.csv') as csvfile:\n",
    "    reader = csv.DictReader(csvfile,)\n",
    "    for row in reader:\n",
    "         # row is a dict\n",
    "        print(row['titre'], row['prix'])"
   ]
  },
  {
   "cell_type": "markdown",
   "id": "891c6f36",
   "metadata": {},
   "source": [
    "### Utilisation de la librairie `Pandas` et réutilisation des variables  `prices` et `titles`"
   ]
  },
  {
   "cell_type": "code",
   "execution_count": 30,
   "id": "7c99b4bd",
   "metadata": {
    "ExecuteTime": {
     "end_time": "2023-09-19T08:43:17.389171Z",
     "start_time": "2023-09-19T08:43:17.226505Z"
    }
   },
   "outputs": [
    {
     "data": {
      "text/html": [
       "<div>\n",
       "<style scoped>\n",
       "    .dataframe tbody tr th:only-of-type {\n",
       "        vertical-align: middle;\n",
       "    }\n",
       "\n",
       "    .dataframe tbody tr th {\n",
       "        vertical-align: top;\n",
       "    }\n",
       "\n",
       "    .dataframe thead th {\n",
       "        text-align: right;\n",
       "    }\n",
       "</style>\n",
       "<table border=\"1\" class=\"dataframe\">\n",
       "  <thead>\n",
       "    <tr style=\"text-align: right;\">\n",
       "      <th></th>\n",
       "      <th>titre</th>\n",
       "      <th>prix</th>\n",
       "    </tr>\n",
       "  </thead>\n",
       "  <tbody>\n",
       "    <tr>\n",
       "      <th>19</th>\n",
       "      <td>It's Only the Himalayas</td>\n",
       "      <td>45.17</td>\n",
       "    </tr>\n",
       "    <tr>\n",
       "      <th>0</th>\n",
       "      <td>A Light in the Attic</td>\n",
       "      <td>51.77</td>\n",
       "    </tr>\n",
       "    <tr>\n",
       "      <th>1</th>\n",
       "      <td>Tipping the Velvet</td>\n",
       "      <td>53.74</td>\n",
       "    </tr>\n",
       "    <tr>\n",
       "      <th>12</th>\n",
       "      <td>Set Me Free</td>\n",
       "      <td>17.46</td>\n",
       "    </tr>\n",
       "    <tr>\n",
       "      <th>2</th>\n",
       "      <td>Soumission</td>\n",
       "      <td>50.10</td>\n",
       "    </tr>\n",
       "  </tbody>\n",
       "</table>\n",
       "</div>"
      ],
      "text/plain": [
       "                      titre   prix\n",
       "19  It's Only the Himalayas  45.17\n",
       "0      A Light in the Attic  51.77\n",
       "1        Tipping the Velvet  53.74\n",
       "12              Set Me Free  17.46\n",
       "2                Soumission  50.10"
      ]
     },
     "execution_count": 30,
     "metadata": {},
     "output_type": "execute_result"
    }
   ],
   "source": [
    "df = pd.DataFrame({'titre':titles,'prix': prices})\n",
    "df.sample(5)"
   ]
  },
  {
   "cell_type": "code",
   "execution_count": 31,
   "id": "07ab7c24",
   "metadata": {
    "ExecuteTime": {
     "end_time": "2023-09-19T08:43:23.581525Z",
     "start_time": "2023-09-19T08:43:23.571089Z"
    }
   },
   "outputs": [
    {
     "data": {
      "text/plain": [
       "(20, 2)"
      ]
     },
     "execution_count": 31,
     "metadata": {},
     "output_type": "execute_result"
    }
   ],
   "source": [
    "df.shape"
   ]
  },
  {
   "cell_type": "code",
   "execution_count": 32,
   "id": "df3240b3",
   "metadata": {
    "ExecuteTime": {
     "end_time": "2023-09-19T08:43:49.258751Z",
     "start_time": "2023-09-19T08:43:49.235273Z"
    }
   },
   "outputs": [
    {
     "data": {
      "text/plain": [
       "760.97"
      ]
     },
     "execution_count": 32,
     "metadata": {},
     "output_type": "execute_result"
    }
   ],
   "source": [
    "df.prix = df.prix.astype(float)\n",
    "df.prix.sum()"
   ]
  },
  {
   "cell_type": "code",
   "execution_count": 33,
   "id": "0f02a82e",
   "metadata": {
    "ExecuteTime": {
     "end_time": "2023-09-19T08:44:07.342626Z",
     "start_time": "2023-09-19T08:44:07.275190Z"
    }
   },
   "outputs": [],
   "source": [
    "df.to_csv('books_pandas.csv', index=False)"
   ]
  },
  {
   "cell_type": "code",
   "execution_count": 34,
   "id": "760d360b",
   "metadata": {
    "ExecuteTime": {
     "end_time": "2023-09-19T08:44:15.810291Z",
     "start_time": "2023-09-19T08:44:15.251524Z"
    }
   },
   "outputs": [
    {
     "name": "stdout",
     "output_type": "stream",
     "text": [
      "-rw-r--r-- 1 root root 862 Sep 19 10:44 books_pandas.csv\r\n",
      "-rw-r--r-- 1 root root 883 Sep 19 10:37 books.csv\r\n"
     ]
    }
   ],
   "source": [
    "! ls -lt *.csv"
   ]
  },
  {
   "cell_type": "code",
   "execution_count": 35,
   "id": "910e72d9",
   "metadata": {
    "ExecuteTime": {
     "end_time": "2023-09-19T08:44:35.889548Z",
     "start_time": "2023-09-19T08:44:35.787747Z"
    }
   },
   "outputs": [
    {
     "data": {
      "text/html": [
       "<div>\n",
       "<style scoped>\n",
       "    .dataframe tbody tr th:only-of-type {\n",
       "        vertical-align: middle;\n",
       "    }\n",
       "\n",
       "    .dataframe tbody tr th {\n",
       "        vertical-align: top;\n",
       "    }\n",
       "\n",
       "    .dataframe thead th {\n",
       "        text-align: right;\n",
       "    }\n",
       "</style>\n",
       "<table border=\"1\" class=\"dataframe\">\n",
       "  <thead>\n",
       "    <tr style=\"text-align: right;\">\n",
       "      <th></th>\n",
       "      <th>titre</th>\n",
       "      <th>prix</th>\n",
       "    </tr>\n",
       "  </thead>\n",
       "  <tbody>\n",
       "    <tr>\n",
       "      <th>0</th>\n",
       "      <td>A Light in the Attic</td>\n",
       "      <td>51.77</td>\n",
       "    </tr>\n",
       "    <tr>\n",
       "      <th>1</th>\n",
       "      <td>Tipping the Velvet</td>\n",
       "      <td>53.74</td>\n",
       "    </tr>\n",
       "    <tr>\n",
       "      <th>2</th>\n",
       "      <td>Soumission</td>\n",
       "      <td>50.10</td>\n",
       "    </tr>\n",
       "    <tr>\n",
       "      <th>3</th>\n",
       "      <td>Sharp Objects</td>\n",
       "      <td>47.82</td>\n",
       "    </tr>\n",
       "    <tr>\n",
       "      <th>4</th>\n",
       "      <td>Sapiens: A Brief History of Humankind</td>\n",
       "      <td>54.23</td>\n",
       "    </tr>\n",
       "    <tr>\n",
       "      <th>5</th>\n",
       "      <td>The Requiem Red</td>\n",
       "      <td>22.65</td>\n",
       "    </tr>\n",
       "    <tr>\n",
       "      <th>6</th>\n",
       "      <td>The Dirty Little Secrets of Getting Your Dream...</td>\n",
       "      <td>33.34</td>\n",
       "    </tr>\n",
       "    <tr>\n",
       "      <th>7</th>\n",
       "      <td>The Coming Woman: A Novel Based on the Life of...</td>\n",
       "      <td>17.93</td>\n",
       "    </tr>\n",
       "    <tr>\n",
       "      <th>8</th>\n",
       "      <td>The Boys in the Boat: Nine Americans and Their...</td>\n",
       "      <td>22.60</td>\n",
       "    </tr>\n",
       "    <tr>\n",
       "      <th>9</th>\n",
       "      <td>The Black Maria</td>\n",
       "      <td>52.15</td>\n",
       "    </tr>\n",
       "    <tr>\n",
       "      <th>10</th>\n",
       "      <td>Starving Hearts (Triangular Trade Trilogy, #1)</td>\n",
       "      <td>13.99</td>\n",
       "    </tr>\n",
       "    <tr>\n",
       "      <th>11</th>\n",
       "      <td>Shakespeare's Sonnets</td>\n",
       "      <td>20.66</td>\n",
       "    </tr>\n",
       "    <tr>\n",
       "      <th>12</th>\n",
       "      <td>Set Me Free</td>\n",
       "      <td>17.46</td>\n",
       "    </tr>\n",
       "    <tr>\n",
       "      <th>13</th>\n",
       "      <td>Scott Pilgrim's Precious Little Life (Scott Pi...</td>\n",
       "      <td>52.29</td>\n",
       "    </tr>\n",
       "    <tr>\n",
       "      <th>14</th>\n",
       "      <td>Rip it Up and Start Again</td>\n",
       "      <td>35.02</td>\n",
       "    </tr>\n",
       "    <tr>\n",
       "      <th>15</th>\n",
       "      <td>Our Band Could Be Your Life: Scenes from the A...</td>\n",
       "      <td>57.25</td>\n",
       "    </tr>\n",
       "    <tr>\n",
       "      <th>16</th>\n",
       "      <td>Olio</td>\n",
       "      <td>23.88</td>\n",
       "    </tr>\n",
       "    <tr>\n",
       "      <th>17</th>\n",
       "      <td>Mesaerion: The Best Science Fiction Stories 18...</td>\n",
       "      <td>37.59</td>\n",
       "    </tr>\n",
       "    <tr>\n",
       "      <th>18</th>\n",
       "      <td>Libertarianism for Beginners</td>\n",
       "      <td>51.33</td>\n",
       "    </tr>\n",
       "    <tr>\n",
       "      <th>19</th>\n",
       "      <td>It's Only the Himalayas</td>\n",
       "      <td>45.17</td>\n",
       "    </tr>\n",
       "  </tbody>\n",
       "</table>\n",
       "</div>"
      ],
      "text/plain": [
       "                                                titre   prix\n",
       "0                                A Light in the Attic  51.77\n",
       "1                                  Tipping the Velvet  53.74\n",
       "2                                          Soumission  50.10\n",
       "3                                       Sharp Objects  47.82\n",
       "4               Sapiens: A Brief History of Humankind  54.23\n",
       "5                                     The Requiem Red  22.65\n",
       "6   The Dirty Little Secrets of Getting Your Dream...  33.34\n",
       "7   The Coming Woman: A Novel Based on the Life of...  17.93\n",
       "8   The Boys in the Boat: Nine Americans and Their...  22.60\n",
       "9                                     The Black Maria  52.15\n",
       "10     Starving Hearts (Triangular Trade Trilogy, #1)  13.99\n",
       "11                              Shakespeare's Sonnets  20.66\n",
       "12                                        Set Me Free  17.46\n",
       "13  Scott Pilgrim's Precious Little Life (Scott Pi...  52.29\n",
       "14                          Rip it Up and Start Again  35.02\n",
       "15  Our Band Could Be Your Life: Scenes from the A...  57.25\n",
       "16                                               Olio  23.88\n",
       "17  Mesaerion: The Best Science Fiction Stories 18...  37.59\n",
       "18                       Libertarianism for Beginners  51.33\n",
       "19                            It's Only the Himalayas  45.17"
      ]
     },
     "execution_count": 35,
     "metadata": {},
     "output_type": "execute_result"
    }
   ],
   "source": [
    "pd.read_csv('books_pandas.csv')"
   ]
  }
 ],
 "metadata": {
  "colab": {
   "provenance": []
  },
  "kernelspec": {
   "display_name": "Python 3 (ipykernel)",
   "language": "python",
   "name": "python3"
  },
  "language_info": {
   "codemirror_mode": {
    "name": "ipython",
    "version": 3
   },
   "file_extension": ".py",
   "mimetype": "text/x-python",
   "name": "python",
   "nbconvert_exporter": "python",
   "pygments_lexer": "ipython3",
   "version": "3.10.0"
  },
  "toc": {
   "base_numbering": 1,
   "nav_menu": {},
   "number_sections": true,
   "sideBar": true,
   "skip_h1_title": false,
   "title_cell": "Table of Contents",
   "title_sidebar": "Contents",
   "toc_cell": false,
   "toc_position": {},
   "toc_section_display": true,
   "toc_window_display": false
  },
  "varInspector": {
   "cols": {
    "lenName": 16,
    "lenType": 16,
    "lenVar": 40
   },
   "kernels_config": {
    "python": {
     "delete_cmd_postfix": "",
     "delete_cmd_prefix": "del ",
     "library": "var_list.py",
     "varRefreshCmd": "print(var_dic_list())"
    },
    "r": {
     "delete_cmd_postfix": ") ",
     "delete_cmd_prefix": "rm(",
     "library": "var_list.r",
     "varRefreshCmd": "cat(var_dic_list()) "
    }
   },
   "types_to_exclude": [
    "module",
    "function",
    "builtin_function_or_method",
    "instance",
    "_Feature"
   ],
   "window_display": false
  }
 },
 "nbformat": 4,
 "nbformat_minor": 5
}
